{
 "cells": [
  {
   "cell_type": "code",
   "id": "initial_id",
   "metadata": {
    "collapsed": true,
    "ExecuteTime": {
     "end_time": "2025-05-15T15:41:38.279004Z",
     "start_time": "2025-05-15T15:41:38.254083Z"
    }
   },
   "source": [
    "%load_ext autoreload\n",
    "%autoreload 2\n",
    "import keras\n",
    "import numpy as np\n",
    "from graph import *\n",
    "from encoder import create_encoder\n",
    "from data_processing import processer\n",
    "from RepresentationLearner import RepresentationLearner\n",
    "from compute import *\n",
    "from GNN import *\n",
    "import matplotlib.pyplot as plt"
   ],
   "outputs": [
    {
     "name": "stdout",
     "output_type": "stream",
     "text": [
      "The autoreload extension is already loaded. To reload it, use:\n",
      "  %reload_ext autoreload\n"
     ]
    }
   ],
   "execution_count": 75
  },
  {
   "metadata": {
    "ExecuteTime": {
     "end_time": "2025-05-15T15:22:20.398522Z",
     "start_time": "2025-05-15T15:22:18.743814Z"
    }
   },
   "cell_type": "code",
   "source": [
    "\n",
    "num_classes = 10\n",
    "input_shape = (32, 32, 3)\n",
    "\n",
    "(x_train, y_train), (x_test, y_test) = keras.datasets.cifar10.load_data()\n"
   ],
   "id": "1e7d1ec80c4d11fd",
   "outputs": [],
   "execution_count": 43
  },
  {
   "metadata": {
    "ExecuteTime": {
     "end_time": "2025-05-15T15:22:21.288631Z",
     "start_time": "2025-05-15T15:22:21.122571Z"
    }
   },
   "cell_type": "code",
   "source": [
    "x_data = np.concatenate([x_train, x_test])\n",
    "y_data = np.concatenate([y_train, y_test])\n",
    "\n",
    "classes = [\n",
    "    'airplane',\n",
    "    'automobile',\n",
    "    'bird',\n",
    "    'cat',\n",
    "    'deer',\n",
    "    'dog',\n",
    "    'frog',\n",
    "    'horse',\n",
    "    'ship',\n",
    "    'truck',\n",
    "]"
   ],
   "id": "95f4279109cb7ff8",
   "outputs": [],
   "execution_count": 44
  },
  {
   "metadata": {
    "ExecuteTime": {
     "end_time": "2025-05-15T14:48:26.259105Z",
     "start_time": "2025-05-15T14:48:26.243720Z"
    }
   },
   "cell_type": "code",
   "source": [
    "target_size = 32\n",
    "representation_dims = 512\n",
    "projection_units = 128\n",
    "num_clusters = 28\n",
    "kn = 5\n",
    "tune_encoder_during_clustering = False"
   ],
   "id": "8b6bd48fdaf6d5ff",
   "outputs": [],
   "execution_count": 21
  },
  {
   "metadata": {
    "ExecuteTime": {
     "end_time": "2025-05-15T14:48:26.991689Z",
     "start_time": "2025-05-15T14:48:26.293491Z"
    }
   },
   "cell_type": "code",
   "source": [
    "x_data = x_data.astype('float32')\n",
    "processer.layers[-1].adapt(x_data)\n",
    "x_data"
   ],
   "id": "6d190dad08a6be34",
   "outputs": [
    {
     "data": {
      "text/plain": [
       "array([[[[ 59.,  62.,  63.],\n",
       "         [ 43.,  46.,  45.],\n",
       "         [ 50.,  48.,  43.],\n",
       "         ...,\n",
       "         [158., 132., 108.],\n",
       "         [152., 125., 102.],\n",
       "         [148., 124., 103.]],\n",
       "\n",
       "        [[ 16.,  20.,  20.],\n",
       "         [  0.,   0.,   0.],\n",
       "         [ 18.,   8.,   0.],\n",
       "         ...,\n",
       "         [123.,  88.,  55.],\n",
       "         [119.,  83.,  50.],\n",
       "         [122.,  87.,  57.]],\n",
       "\n",
       "        [[ 25.,  24.,  21.],\n",
       "         [ 16.,   7.,   0.],\n",
       "         [ 49.,  27.,   8.],\n",
       "         ...,\n",
       "         [118.,  84.,  50.],\n",
       "         [120.,  84.,  50.],\n",
       "         [109.,  73.,  42.]],\n",
       "\n",
       "        ...,\n",
       "\n",
       "        [[208., 170.,  96.],\n",
       "         [201., 153.,  34.],\n",
       "         [198., 161.,  26.],\n",
       "         ...,\n",
       "         [160., 133.,  70.],\n",
       "         [ 56.,  31.,   7.],\n",
       "         [ 53.,  34.,  20.]],\n",
       "\n",
       "        [[180., 139.,  96.],\n",
       "         [173., 123.,  42.],\n",
       "         [186., 144.,  30.],\n",
       "         ...,\n",
       "         [184., 148.,  94.],\n",
       "         [ 97.,  62.,  34.],\n",
       "         [ 83.,  53.,  34.]],\n",
       "\n",
       "        [[177., 144., 116.],\n",
       "         [168., 129.,  94.],\n",
       "         [179., 142.,  87.],\n",
       "         ...,\n",
       "         [216., 184., 140.],\n",
       "         [151., 118.,  84.],\n",
       "         [123.,  92.,  72.]]],\n",
       "\n",
       "\n",
       "       [[[154., 177., 187.],\n",
       "         [126., 137., 136.],\n",
       "         [105., 104.,  95.],\n",
       "         ...,\n",
       "         [ 91.,  95.,  71.],\n",
       "         [ 87.,  90.,  71.],\n",
       "         [ 79.,  81.,  70.]],\n",
       "\n",
       "        [[140., 160., 169.],\n",
       "         [145., 153., 154.],\n",
       "         [125., 125., 118.],\n",
       "         ...,\n",
       "         [ 96.,  99.,  78.],\n",
       "         [ 77.,  80.,  62.],\n",
       "         [ 71.,  73.,  61.]],\n",
       "\n",
       "        [[140., 155., 164.],\n",
       "         [139., 146., 149.],\n",
       "         [115., 115., 112.],\n",
       "         ...,\n",
       "         [ 79.,  82.,  64.],\n",
       "         [ 68.,  70.,  55.],\n",
       "         [ 67.,  69.,  55.]],\n",
       "\n",
       "        ...,\n",
       "\n",
       "        [[175., 167., 166.],\n",
       "         [156., 154., 160.],\n",
       "         [154., 160., 170.],\n",
       "         ...,\n",
       "         [ 42.,  34.,  36.],\n",
       "         [ 61.,  53.,  57.],\n",
       "         [ 93.,  83.,  91.]],\n",
       "\n",
       "        [[165., 154., 128.],\n",
       "         [156., 152., 130.],\n",
       "         [159., 161., 142.],\n",
       "         ...,\n",
       "         [103.,  93.,  96.],\n",
       "         [123., 114., 120.],\n",
       "         [131., 121., 131.]],\n",
       "\n",
       "        [[163., 148., 120.],\n",
       "         [158., 148., 122.],\n",
       "         [163., 156., 133.],\n",
       "         ...,\n",
       "         [143., 133., 139.],\n",
       "         [143., 134., 142.],\n",
       "         [143., 133., 144.]]],\n",
       "\n",
       "\n",
       "       [[[255., 255., 255.],\n",
       "         [253., 253., 253.],\n",
       "         [253., 253., 253.],\n",
       "         ...,\n",
       "         [253., 253., 253.],\n",
       "         [253., 253., 253.],\n",
       "         [253., 253., 253.]],\n",
       "\n",
       "        [[255., 255., 255.],\n",
       "         [255., 255., 255.],\n",
       "         [255., 255., 255.],\n",
       "         ...,\n",
       "         [255., 255., 255.],\n",
       "         [255., 255., 255.],\n",
       "         [255., 255., 255.]],\n",
       "\n",
       "        [[255., 255., 255.],\n",
       "         [254., 254., 254.],\n",
       "         [254., 254., 254.],\n",
       "         ...,\n",
       "         [254., 254., 254.],\n",
       "         [254., 254., 254.],\n",
       "         [254., 254., 254.]],\n",
       "\n",
       "        ...,\n",
       "\n",
       "        [[113., 120., 112.],\n",
       "         [111., 118., 111.],\n",
       "         [105., 112., 106.],\n",
       "         ...,\n",
       "         [ 72.,  81.,  80.],\n",
       "         [ 72.,  80.,  79.],\n",
       "         [ 72.,  80.,  79.]],\n",
       "\n",
       "        [[111., 118., 110.],\n",
       "         [104., 111., 104.],\n",
       "         [ 99., 106.,  98.],\n",
       "         ...,\n",
       "         [ 68.,  75.,  73.],\n",
       "         [ 70.,  76.,  75.],\n",
       "         [ 78.,  84.,  82.]],\n",
       "\n",
       "        [[106., 113., 105.],\n",
       "         [ 99., 106.,  98.],\n",
       "         [ 95., 102.,  94.],\n",
       "         ...,\n",
       "         [ 78.,  85.,  83.],\n",
       "         [ 79.,  85.,  83.],\n",
       "         [ 80.,  86.,  84.]]],\n",
       "\n",
       "\n",
       "       ...,\n",
       "\n",
       "\n",
       "       [[[ 20.,  15.,  12.],\n",
       "         [ 19.,  14.,  11.],\n",
       "         [ 15.,  14.,  11.],\n",
       "         ...,\n",
       "         [ 10.,   9.,   7.],\n",
       "         [ 12.,  11.,   9.],\n",
       "         [ 13.,  12.,  10.]],\n",
       "\n",
       "        [[ 21.,  16.,  13.],\n",
       "         [ 20.,  16.,  13.],\n",
       "         [ 18.,  17.,  12.],\n",
       "         ...,\n",
       "         [ 10.,   9.,   7.],\n",
       "         [ 10.,   9.,   7.],\n",
       "         [ 12.,  11.,   9.]],\n",
       "\n",
       "        [[ 21.,  16.,  13.],\n",
       "         [ 21.,  17.,  12.],\n",
       "         [ 20.,  18.,  11.],\n",
       "         ...,\n",
       "         [ 12.,  11.,   9.],\n",
       "         [ 12.,  11.,   9.],\n",
       "         [ 13.,  12.,  10.]],\n",
       "\n",
       "        ...,\n",
       "\n",
       "        [[ 33.,  25.,  13.],\n",
       "         [ 34.,  26.,  15.],\n",
       "         [ 34.,  26.,  15.],\n",
       "         ...,\n",
       "         [ 28.,  25.,  52.],\n",
       "         [ 29.,  25.,  58.],\n",
       "         [ 23.,  20.,  42.]],\n",
       "\n",
       "        [[ 33.,  25.,  14.],\n",
       "         [ 34.,  26.,  15.],\n",
       "         [ 34.,  26.,  15.],\n",
       "         ...,\n",
       "         [ 27.,  24.,  52.],\n",
       "         [ 27.,  24.,  56.],\n",
       "         [ 25.,  22.,  47.]],\n",
       "\n",
       "        [[ 31.,  23.,  12.],\n",
       "         [ 32.,  24.,  13.],\n",
       "         [ 33.,  25.,  14.],\n",
       "         ...,\n",
       "         [ 24.,  23.,  50.],\n",
       "         [ 26.,  23.,  53.],\n",
       "         [ 25.,  20.,  47.]]],\n",
       "\n",
       "\n",
       "       [[[ 25.,  40.,  12.],\n",
       "         [ 15.,  36.,   3.],\n",
       "         [ 23.,  41.,  18.],\n",
       "         ...,\n",
       "         [ 61.,  82.,  78.],\n",
       "         [ 92., 113., 112.],\n",
       "         [ 75.,  89.,  92.]],\n",
       "\n",
       "        [[ 12.,  25.,   6.],\n",
       "         [ 20.,  37.,   7.],\n",
       "         [ 24.,  36.,  15.],\n",
       "         ...,\n",
       "         [115., 134., 138.],\n",
       "         [149., 168., 177.],\n",
       "         [104., 117., 131.]],\n",
       "\n",
       "        [[ 12.,  25.,  11.],\n",
       "         [ 15.,  29.,   6.],\n",
       "         [ 34.,  40.,  24.],\n",
       "         ...,\n",
       "         [154., 172., 182.],\n",
       "         [157., 175., 192.],\n",
       "         [116., 129., 151.]],\n",
       "\n",
       "        ...,\n",
       "\n",
       "        [[100., 129.,  81.],\n",
       "         [103., 132.,  84.],\n",
       "         [104., 134.,  86.],\n",
       "         ...,\n",
       "         [ 97., 128.,  84.],\n",
       "         [ 98., 126.,  84.],\n",
       "         [ 91., 121.,  79.]],\n",
       "\n",
       "        [[103., 132.,  83.],\n",
       "         [104., 131.,  83.],\n",
       "         [107., 135.,  87.],\n",
       "         ...,\n",
       "         [101., 132.,  87.],\n",
       "         [ 99., 127.,  84.],\n",
       "         [ 92., 121.,  79.]],\n",
       "\n",
       "        [[ 95., 126.,  78.],\n",
       "         [ 95., 123.,  76.],\n",
       "         [101., 128.,  81.],\n",
       "         ...,\n",
       "         [ 93., 124.,  80.],\n",
       "         [ 95., 123.,  81.],\n",
       "         [ 92., 120.,  80.]]],\n",
       "\n",
       "\n",
       "       [[[ 73.,  78.,  75.],\n",
       "         [ 98., 103., 113.],\n",
       "         [ 99., 106., 114.],\n",
       "         ...,\n",
       "         [135., 150., 152.],\n",
       "         [135., 149., 154.],\n",
       "         [203., 215., 223.]],\n",
       "\n",
       "        [[ 69.,  73.,  70.],\n",
       "         [ 84.,  89.,  97.],\n",
       "         [ 68.,  75.,  81.],\n",
       "         ...,\n",
       "         [ 85.,  95.,  89.],\n",
       "         [ 71.,  82.,  80.],\n",
       "         [120., 133., 135.]],\n",
       "\n",
       "        [[ 69.,  73.,  70.],\n",
       "         [ 90.,  95., 100.],\n",
       "         [ 62.,  71.,  74.],\n",
       "         ...,\n",
       "         [ 74.,  81.,  70.],\n",
       "         [ 53.,  62.,  54.],\n",
       "         [ 62.,  74.,  69.]],\n",
       "\n",
       "        ...,\n",
       "\n",
       "        [[123., 128.,  96.],\n",
       "         [132., 132., 102.],\n",
       "         [129., 128., 100.],\n",
       "         ...,\n",
       "         [108., 107.,  88.],\n",
       "         [ 62.,  60.,  55.],\n",
       "         [ 27.,  27.,  28.]],\n",
       "\n",
       "        [[115., 121.,  91.],\n",
       "         [123., 124.,  95.],\n",
       "         [129., 126.,  99.],\n",
       "         ...,\n",
       "         [115., 116.,  94.],\n",
       "         [ 66.,  65.,  59.],\n",
       "         [ 27.,  27.,  27.]],\n",
       "\n",
       "        [[116., 120.,  90.],\n",
       "         [121., 122.,  94.],\n",
       "         [129., 128., 101.],\n",
       "         ...,\n",
       "         [116., 115.,  94.],\n",
       "         [ 68.,  65.,  58.],\n",
       "         [ 27.,  26.,  26.]]]], dtype=float32)"
      ]
     },
     "execution_count": 22,
     "metadata": {},
     "output_type": "execute_result"
    }
   ],
   "execution_count": 22
  },
  {
   "metadata": {
    "ExecuteTime": {
     "end_time": "2025-05-15T14:48:27.485921Z",
     "start_time": "2025-05-15T14:48:26.996289Z"
    }
   },
   "cell_type": "code",
   "source": [
    "encoder = create_encoder(representation_dims)\n",
    "representation_leaner = RepresentationLearner(\n",
    "    encoder, projection_units, num_augmentations=2, temperature=0.1\n",
    ")\n",
    "\n",
    "lr_scheduler = keras.optimizers.schedules.CosineDecay(\n",
    "    initial_learning_rate=0.001, decay_steps=500, alpha=0.1\n",
    ")\n",
    "\n"
   ],
   "id": "3002209d3d6e3e12",
   "outputs": [],
   "execution_count": 23
  },
  {
   "metadata": {
    "ExecuteTime": {
     "end_time": "2025-05-15T14:48:27.520854Z",
     "start_time": "2025-05-15T14:48:27.498128Z"
    }
   },
   "cell_type": "code",
   "source": [
    "representation_leaner.compile(\n",
    "    optimizer=keras.optimizers.AdamW(\n",
    "        learning_rate=lr_scheduler, weight_decay=0.0001\n",
    "    ), jit_compile=False\n",
    ")\n"
   ],
   "id": "803741c8163090d9",
   "outputs": [],
   "execution_count": 24
  },
  {
   "metadata": {
    "ExecuteTime": {
     "end_time": "2025-05-15T15:15:03.776954Z",
     "start_time": "2025-05-15T14:48:27.564814Z"
    }
   },
   "cell_type": "code",
   "source": [
    "history = representation_leaner.fit(\n",
    "    x=x_data,\n",
    "    batch_size=512,\n",
    "    epochs=50\n",
    ")"
   ],
   "id": "7bfe769279f7d86c",
   "outputs": [
    {
     "name": "stdout",
     "output_type": "stream",
     "text": [
      "Epoch 1/50\n"
     ]
    },
    {
     "name": "stderr",
     "output_type": "stream",
     "text": [
      "I0000 00:00:1747320525.993957    1263 cuda_dnn.cc:529] Loaded cuDNN version 90300\n",
      "2025-05-15 15:48:50.518131: W external/local_xla/xla/tsl/framework/bfc_allocator.cc:310] Allocator (GPU_0_bfc) ran out of memory trying to allocate 8.02GiB with freed_by_count=0. The caller indicates that this is not a failure, but this may mean that there could be performance gains if more memory were available.\n",
      "2025-05-15 15:48:50.518197: W external/local_xla/xla/tsl/framework/bfc_allocator.cc:310] Allocator (GPU_0_bfc) ran out of memory trying to allocate 8.02GiB with freed_by_count=0. The caller indicates that this is not a failure, but this may mean that there could be performance gains if more memory were available.\n",
      "2025-05-15 15:48:50.518206: W external/local_xla/xla/tsl/framework/bfc_allocator.cc:310] Allocator (GPU_0_bfc) ran out of memory trying to allocate 8.02GiB with freed_by_count=0. The caller indicates that this is not a failure, but this may mean that there could be performance gains if more memory were available.\n"
     ]
    },
    {
     "name": "stdout",
     "output_type": "stream",
     "text": [
      "\u001B[1m118/118\u001B[0m \u001B[32m━━━━━━━━━━━━━━━━━━━━\u001B[0m\u001B[37m\u001B[0m \u001B[1m58s\u001B[0m 285ms/step - loss: 158.7963\n",
      "Epoch 2/50\n",
      "\u001B[1m118/118\u001B[0m \u001B[32m━━━━━━━━━━━━━━━━━━━━\u001B[0m\u001B[37m\u001B[0m \u001B[1m31s\u001B[0m 265ms/step - loss: 15.7332\n",
      "Epoch 3/50\n",
      "\u001B[1m118/118\u001B[0m \u001B[32m━━━━━━━━━━━━━━━━━━━━\u001B[0m\u001B[37m\u001B[0m \u001B[1m31s\u001B[0m 263ms/step - loss: 13.8632\n",
      "Epoch 4/50\n",
      "\u001B[1m118/118\u001B[0m \u001B[32m━━━━━━━━━━━━━━━━━━━━\u001B[0m\u001B[37m\u001B[0m \u001B[1m31s\u001B[0m 262ms/step - loss: 12.8877\n",
      "Epoch 5/50\n",
      "\u001B[1m118/118\u001B[0m \u001B[32m━━━━━━━━━━━━━━━━━━━━\u001B[0m\u001B[37m\u001B[0m \u001B[1m31s\u001B[0m 263ms/step - loss: 12.4118\n",
      "Epoch 6/50\n",
      "\u001B[1m118/118\u001B[0m \u001B[32m━━━━━━━━━━━━━━━━━━━━\u001B[0m\u001B[37m\u001B[0m \u001B[1m32s\u001B[0m 268ms/step - loss: 12.1479\n",
      "Epoch 7/50\n",
      "\u001B[1m118/118\u001B[0m \u001B[32m━━━━━━━━━━━━━━━━━━━━\u001B[0m\u001B[37m\u001B[0m \u001B[1m31s\u001B[0m 263ms/step - loss: 11.9296\n",
      "Epoch 8/50\n",
      "\u001B[1m118/118\u001B[0m \u001B[32m━━━━━━━━━━━━━━━━━━━━\u001B[0m\u001B[37m\u001B[0m \u001B[1m30s\u001B[0m 253ms/step - loss: 11.4509\n",
      "Epoch 9/50\n",
      "\u001B[1m118/118\u001B[0m \u001B[32m━━━━━━━━━━━━━━━━━━━━\u001B[0m\u001B[37m\u001B[0m \u001B[1m31s\u001B[0m 262ms/step - loss: 11.0316\n",
      "Epoch 10/50\n",
      "\u001B[1m118/118\u001B[0m \u001B[32m━━━━━━━━━━━━━━━━━━━━\u001B[0m\u001B[37m\u001B[0m \u001B[1m32s\u001B[0m 275ms/step - loss: 10.8343\n",
      "Epoch 11/50\n",
      "\u001B[1m118/118\u001B[0m \u001B[32m━━━━━━━━━━━━━━━━━━━━\u001B[0m\u001B[37m\u001B[0m \u001B[1m31s\u001B[0m 266ms/step - loss: 10.2721\n",
      "Epoch 12/50\n",
      "\u001B[1m118/118\u001B[0m \u001B[32m━━━━━━━━━━━━━━━━━━━━\u001B[0m\u001B[37m\u001B[0m \u001B[1m32s\u001B[0m 268ms/step - loss: 10.0336\n",
      "Epoch 13/50\n",
      "\u001B[1m118/118\u001B[0m \u001B[32m━━━━━━━━━━━━━━━━━━━━\u001B[0m\u001B[37m\u001B[0m \u001B[1m32s\u001B[0m 270ms/step - loss: 9.8377\n",
      "Epoch 14/50\n",
      "\u001B[1m118/118\u001B[0m \u001B[32m━━━━━━━━━━━━━━━━━━━━\u001B[0m\u001B[37m\u001B[0m \u001B[1m32s\u001B[0m 270ms/step - loss: 9.8853\n",
      "Epoch 15/50\n",
      "\u001B[1m118/118\u001B[0m \u001B[32m━━━━━━━━━━━━━━━━━━━━\u001B[0m\u001B[37m\u001B[0m \u001B[1m31s\u001B[0m 265ms/step - loss: 9.8748\n",
      "Epoch 16/50\n",
      "\u001B[1m118/118\u001B[0m \u001B[32m━━━━━━━━━━━━━━━━━━━━\u001B[0m\u001B[37m\u001B[0m \u001B[1m31s\u001B[0m 265ms/step - loss: 9.8959\n",
      "Epoch 17/50\n",
      "\u001B[1m118/118\u001B[0m \u001B[32m━━━━━━━━━━━━━━━━━━━━\u001B[0m\u001B[37m\u001B[0m \u001B[1m31s\u001B[0m 266ms/step - loss: 9.8469\n",
      "Epoch 18/50\n",
      "\u001B[1m118/118\u001B[0m \u001B[32m━━━━━━━━━━━━━━━━━━━━\u001B[0m\u001B[37m\u001B[0m \u001B[1m32s\u001B[0m 269ms/step - loss: 9.8112\n",
      "Epoch 19/50\n",
      "\u001B[1m118/118\u001B[0m \u001B[32m━━━━━━━━━━━━━━━━━━━━\u001B[0m\u001B[37m\u001B[0m \u001B[1m31s\u001B[0m 266ms/step - loss: 9.6790\n",
      "Epoch 20/50\n",
      "\u001B[1m118/118\u001B[0m \u001B[32m━━━━━━━━━━━━━━━━━━━━\u001B[0m\u001B[37m\u001B[0m \u001B[1m31s\u001B[0m 264ms/step - loss: 9.6298\n",
      "Epoch 21/50\n",
      "\u001B[1m118/118\u001B[0m \u001B[32m━━━━━━━━━━━━━━━━━━━━\u001B[0m\u001B[37m\u001B[0m \u001B[1m29s\u001B[0m 246ms/step - loss: 9.4218\n",
      "Epoch 22/50\n",
      "\u001B[1m118/118\u001B[0m \u001B[32m━━━━━━━━━━━━━━━━━━━━\u001B[0m\u001B[37m\u001B[0m \u001B[1m32s\u001B[0m 272ms/step - loss: 9.3753\n",
      "Epoch 23/50\n",
      "\u001B[1m118/118\u001B[0m \u001B[32m━━━━━━━━━━━━━━━━━━━━\u001B[0m\u001B[37m\u001B[0m \u001B[1m32s\u001B[0m 273ms/step - loss: 9.2641\n",
      "Epoch 24/50\n",
      "\u001B[1m118/118\u001B[0m \u001B[32m━━━━━━━━━━━━━━━━━━━━\u001B[0m\u001B[37m\u001B[0m \u001B[1m31s\u001B[0m 266ms/step - loss: 9.0742\n",
      "Epoch 25/50\n",
      "\u001B[1m118/118\u001B[0m \u001B[32m━━━━━━━━━━━━━━━━━━━━\u001B[0m\u001B[37m\u001B[0m \u001B[1m32s\u001B[0m 268ms/step - loss: 9.0732\n",
      "Epoch 26/50\n",
      "\u001B[1m118/118\u001B[0m \u001B[32m━━━━━━━━━━━━━━━━━━━━\u001B[0m\u001B[37m\u001B[0m \u001B[1m32s\u001B[0m 270ms/step - loss: 8.8427\n",
      "Epoch 27/50\n",
      "\u001B[1m118/118\u001B[0m \u001B[32m━━━━━━━━━━━━━━━━━━━━\u001B[0m\u001B[37m\u001B[0m \u001B[1m31s\u001B[0m 263ms/step - loss: 8.7412\n",
      "Epoch 28/50\n",
      "\u001B[1m118/118\u001B[0m \u001B[32m━━━━━━━━━━━━━━━━━━━━\u001B[0m\u001B[37m\u001B[0m \u001B[1m32s\u001B[0m 267ms/step - loss: 8.5915\n",
      "Epoch 29/50\n",
      "\u001B[1m118/118\u001B[0m \u001B[32m━━━━━━━━━━━━━━━━━━━━\u001B[0m\u001B[37m\u001B[0m \u001B[1m32s\u001B[0m 269ms/step - loss: 8.4924\n",
      "Epoch 30/50\n",
      "\u001B[1m118/118\u001B[0m \u001B[32m━━━━━━━━━━━━━━━━━━━━\u001B[0m\u001B[37m\u001B[0m \u001B[1m31s\u001B[0m 266ms/step - loss: 8.2353\n",
      "Epoch 31/50\n",
      "\u001B[1m118/118\u001B[0m \u001B[32m━━━━━━━━━━━━━━━━━━━━\u001B[0m\u001B[37m\u001B[0m \u001B[1m31s\u001B[0m 266ms/step - loss: 8.4304\n",
      "Epoch 32/50\n",
      "\u001B[1m118/118\u001B[0m \u001B[32m━━━━━━━━━━━━━━━━━━━━\u001B[0m\u001B[37m\u001B[0m \u001B[1m31s\u001B[0m 266ms/step - loss: 8.0725\n",
      "Epoch 33/50\n",
      "\u001B[1m118/118\u001B[0m \u001B[32m━━━━━━━━━━━━━━━━━━━━\u001B[0m\u001B[37m\u001B[0m \u001B[1m30s\u001B[0m 256ms/step - loss: 7.9221\n",
      "Epoch 34/50\n",
      "\u001B[1m118/118\u001B[0m \u001B[32m━━━━━━━━━━━━━━━━━━━━\u001B[0m\u001B[37m\u001B[0m \u001B[1m32s\u001B[0m 268ms/step - loss: 7.8610\n",
      "Epoch 35/50\n",
      "\u001B[1m118/118\u001B[0m \u001B[32m━━━━━━━━━━━━━━━━━━━━\u001B[0m\u001B[37m\u001B[0m \u001B[1m32s\u001B[0m 270ms/step - loss: 7.6897\n",
      "Epoch 36/50\n",
      "\u001B[1m118/118\u001B[0m \u001B[32m━━━━━━━━━━━━━━━━━━━━\u001B[0m\u001B[37m\u001B[0m \u001B[1m31s\u001B[0m 264ms/step - loss: 7.6303\n",
      "Epoch 37/50\n",
      "\u001B[1m118/118\u001B[0m \u001B[32m━━━━━━━━━━━━━━━━━━━━\u001B[0m\u001B[37m\u001B[0m \u001B[1m31s\u001B[0m 264ms/step - loss: 7.5625\n",
      "Epoch 38/50\n",
      "\u001B[1m118/118\u001B[0m \u001B[32m━━━━━━━━━━━━━━━━━━━━\u001B[0m\u001B[37m\u001B[0m \u001B[1m31s\u001B[0m 264ms/step - loss: 7.6170\n",
      "Epoch 39/50\n",
      "\u001B[1m118/118\u001B[0m \u001B[32m━━━━━━━━━━━━━━━━━━━━\u001B[0m\u001B[37m\u001B[0m \u001B[1m32s\u001B[0m 270ms/step - loss: 7.3797\n",
      "Epoch 40/50\n",
      "\u001B[1m118/118\u001B[0m \u001B[32m━━━━━━━━━━━━━━━━━━━━\u001B[0m\u001B[37m\u001B[0m \u001B[1m32s\u001B[0m 274ms/step - loss: 7.4702\n",
      "Epoch 41/50\n",
      "\u001B[1m118/118\u001B[0m \u001B[32m━━━━━━━━━━━━━━━━━━━━\u001B[0m\u001B[37m\u001B[0m \u001B[1m32s\u001B[0m 268ms/step - loss: 7.3141\n",
      "Epoch 42/50\n",
      "\u001B[1m118/118\u001B[0m \u001B[32m━━━━━━━━━━━━━━━━━━━━\u001B[0m\u001B[37m\u001B[0m \u001B[1m31s\u001B[0m 265ms/step - loss: 7.0721\n",
      "Epoch 43/50\n",
      "\u001B[1m118/118\u001B[0m \u001B[32m━━━━━━━━━━━━━━━━━━━━\u001B[0m\u001B[37m\u001B[0m \u001B[1m32s\u001B[0m 269ms/step - loss: 6.9143\n",
      "Epoch 44/50\n",
      "\u001B[1m118/118\u001B[0m \u001B[32m━━━━━━━━━━━━━━━━━━━━\u001B[0m\u001B[37m\u001B[0m \u001B[1m32s\u001B[0m 270ms/step - loss: 6.9066\n",
      "Epoch 45/50\n",
      "\u001B[1m118/118\u001B[0m \u001B[32m━━━━━━━━━━━━━━━━━━━━\u001B[0m\u001B[37m\u001B[0m \u001B[1m32s\u001B[0m 271ms/step - loss: 6.9091\n",
      "Epoch 46/50\n",
      "\u001B[1m118/118\u001B[0m \u001B[32m━━━━━━━━━━━━━━━━━━━━\u001B[0m\u001B[37m\u001B[0m \u001B[1m31s\u001B[0m 261ms/step - loss: 6.8692\n",
      "Epoch 47/50\n",
      "\u001B[1m118/118\u001B[0m \u001B[32m━━━━━━━━━━━━━━━━━━━━\u001B[0m\u001B[37m\u001B[0m \u001B[1m30s\u001B[0m 248ms/step - loss: 6.6344\n",
      "Epoch 48/50\n",
      "\u001B[1m118/118\u001B[0m \u001B[32m━━━━━━━━━━━━━━━━━━━━\u001B[0m\u001B[37m\u001B[0m \u001B[1m32s\u001B[0m 273ms/step - loss: 6.5887\n",
      "Epoch 49/50\n",
      "\u001B[1m118/118\u001B[0m \u001B[32m━━━━━━━━━━━━━━━━━━━━\u001B[0m\u001B[37m\u001B[0m \u001B[1m31s\u001B[0m 260ms/step - loss: 6.4676\n",
      "Epoch 50/50\n",
      "\u001B[1m118/118\u001B[0m \u001B[32m━━━━━━━━━━━━━━━━━━━━\u001B[0m\u001B[37m\u001B[0m \u001B[1m31s\u001B[0m 264ms/step - loss: 6.5860\n"
     ]
    }
   ],
   "execution_count": 25
  },
  {
   "metadata": {
    "ExecuteTime": {
     "end_time": "2025-05-15T15:15:04.305271Z",
     "start_time": "2025-05-15T15:15:04.196288Z"
    }
   },
   "cell_type": "code",
   "source": [
    "from graph import loss_graph, display_learning_curves\n",
    "\n",
    "loss_graph(history.history['loss'])"
   ],
   "id": "99cfd043a660a398",
   "outputs": [
    {
     "data": {
      "text/plain": [
       "<Figure size 640x480 with 1 Axes>"
      ],
      "image/png": "[encoded data removed]"
     },
     "metadata": {},
     "output_type": "display_data"
    }
   ],
   "execution_count": 26
  },
  {
   "metadata": {
    "ExecuteTime": {
     "end_time": "2025-05-15T15:32:47.622092Z",
     "start_time": "2025-05-15T15:32:35.751415Z"
    }
   },
   "cell_type": "code",
   "source": "knns = compute_knn(representation_leaner.encoder.predict(x_data), 512, kn)",
   "id": "47b7887b6581ee34",
   "outputs": [
    {
     "name": "stdout",
     "output_type": "stream",
     "text": [
      "\u001B[1m1875/1875\u001B[0m \u001B[32m━━━━━━━━━━━━━━━━━━━━\u001B[0m\u001B[37m\u001B[0m \u001B[1m7s\u001B[0m 4ms/step\n"
     ]
    },
    {
     "name": "stderr",
     "output_type": "stream",
     "text": [
      "100%|██████████| 117/117 [00:04<00:00, 26.68it/s]\n"
     ]
    }
   ],
   "execution_count": 66
  },
  {
   "metadata": {
    "ExecuteTime": {
     "end_time": "2025-05-15T15:15:23.747516Z",
     "start_time": "2025-05-15T15:15:23.708732Z"
    }
   },
   "cell_type": "code",
   "source": "knns",
   "id": "2f7f1c9b9fecae81",
   "outputs": [
    {
     "data": {
      "text/plain": [
       "array([[38956, 34910, 59951,  5867, 16326],\n",
       "       [38956, 34910, 59951,  5867, 16326],\n",
       "       [38956, 34910, 59951,  5867,  4110],\n",
       "       ...,\n",
       "       [38956, 34910, 59951,  5867, 16326],\n",
       "       [38956, 34910, 59951,  5867, 16326],\n",
       "       [38956, 34910, 59951,  5867, 16326]], dtype=int32)"
      ]
     },
     "execution_count": 28,
     "metadata": {},
     "output_type": "execute_result"
    }
   ],
   "execution_count": 28
  },
  {
   "metadata": {
    "ExecuteTime": {
     "end_time": "2025-05-15T15:16:04.244897Z",
     "start_time": "2025-05-15T15:15:23.768524Z"
    }
   },
   "cell_type": "code",
   "source": "projection = representation_leaner.predict(x_data)",
   "id": "eb25feb915ae4d58",
   "outputs": [
    {
     "name": "stdout",
     "output_type": "stream",
     "text": [
      "\u001B[1m1875/1875\u001B[0m \u001B[32m━━━━━━━━━━━━━━━━━━━━\u001B[0m\u001B[37m\u001B[0m \u001B[1m40s\u001B[0m 20ms/step\n"
     ]
    }
   ],
   "execution_count": 29
  },
  {
   "metadata": {
    "ExecuteTime": {
     "end_time": "2025-05-15T15:16:04.286374Z",
     "start_time": "2025-05-15T15:16:04.267775Z"
    }
   },
   "cell_type": "code",
   "source": "projection",
   "id": "9b4c93529a94b3cd",
   "outputs": [
    {
     "data": {
      "text/plain": [
       "array([[0.        , 0.53446424, 0.13451743, ..., 0.        , 0.2981295 ,\n",
       "        0.33946764],\n",
       "       [0.16152301, 0.04982811, 0.3882391 , ..., 0.20807259, 0.00997014,\n",
       "        0.        ],\n",
       "       [0.00915898, 0.20708808, 0.04230197, ..., 0.09944665, 0.09696525,\n",
       "        0.12526195],\n",
       "       ...,\n",
       "       [0.07625674, 0.03318556, 0.04903565, ..., 0.37766832, 0.        ,\n",
       "        0.        ],\n",
       "       [0.13786912, 0.        , 0.25618193, ..., 0.23169202, 0.1024518 ,\n",
       "        0.00683962],\n",
       "       [0.1684368 , 0.        , 0.        , ..., 0.        , 0.        ,\n",
       "        0.4570431 ]], dtype=float32)"
      ]
     },
     "execution_count": 30,
     "metadata": {},
     "output_type": "execute_result"
    }
   ],
   "execution_count": 30
  },
  {
   "metadata": {
    "ExecuteTime": {
     "end_time": "2025-05-15T15:25:41.145643Z",
     "start_time": "2025-05-15T15:25:41.017436Z"
    }
   },
   "cell_type": "code",
   "source": [
    "hidden_units = [5, 128]\n",
    "dropout_rate = 0.5\n",
    "baseline_model = create_baseline_model(hidden_units, num_classes, dropout_rate)"
   ],
   "id": "afa0dc7d2c1e591",
   "outputs": [],
   "execution_count": 57
  },
  {
   "metadata": {
    "ExecuteTime": {
     "end_time": "2025-05-15T15:25:45.432268Z",
     "start_time": "2025-05-15T15:25:45.404895Z"
    }
   },
   "cell_type": "code",
   "source": "baseline_model.summary()",
   "id": "cf00323b594b0236",
   "outputs": [
    {
     "data": {
      "text/plain": [
       "\u001B[1mModel: \"baseline_model\"\u001B[0m\n"
      ],
      "text/html": [
       "<pre style=\"white-space:pre;overflow-x:auto;line-height:normal;font-family:Menlo,'DejaVu Sans Mono',consolas,'Courier New',monospace\"><span style=\"font-weight: bold\">Model: \"baseline_model\"</span>\n",
       "</pre>\n"
      ]
     },
     "metadata": {},
     "output_type": "display_data"
    },
    {
     "data": {
      "text/plain": [
       "┏━━━━━━━━━━━━━━━━━━━━━┳━━━━━━━━━━━━━━━━━━━┳━━━━━━━━━━━━┳━━━━━━━━━━━━━━━━━━━┓\n",
       "┃\u001B[1m \u001B[0m\u001B[1mLayer (type)       \u001B[0m\u001B[1m \u001B[0m┃\u001B[1m \u001B[0m\u001B[1mOutput Shape     \u001B[0m\u001B[1m \u001B[0m┃\u001B[1m \u001B[0m\u001B[1m   Param #\u001B[0m\u001B[1m \u001B[0m┃\u001B[1m \u001B[0m\u001B[1mConnected to     \u001B[0m\u001B[1m \u001B[0m┃\n",
       "┡━━━━━━━━━━━━━━━━━━━━━╇━━━━━━━━━━━━━━━━━━━╇━━━━━━━━━━━━╇━━━━━━━━━━━━━━━━━━━┩\n",
       "│ input_features      │ (\u001B[38;5;45mNone\u001B[0m, \u001B[38;5;34m5\u001B[0m)         │          \u001B[38;5;34m0\u001B[0m │ -                 │\n",
       "│ (\u001B[38;5;33mInputLayer\u001B[0m)        │                   │            │                   │\n",
       "├─────────────────────┼───────────────────┼────────────┼───────────────────┤\n",
       "│ ffn_block1          │ (\u001B[38;5;45mNone\u001B[0m, \u001B[38;5;34m128\u001B[0m)       │        \u001B[38;5;34m838\u001B[0m │ input_features[\u001B[38;5;34m0\u001B[0m… │\n",
       "│ (\u001B[38;5;33mSequential\u001B[0m)        │                   │            │                   │\n",
       "├─────────────────────┼───────────────────┼────────────┼───────────────────┤\n",
       "│ ffn_block2          │ (\u001B[38;5;45mNone\u001B[0m, \u001B[38;5;34m128\u001B[0m)       │      \u001B[38;5;34m1,945\u001B[0m │ ffn_block1[\u001B[38;5;34m0\u001B[0m][\u001B[38;5;34m0\u001B[0m]  │\n",
       "│ (\u001B[38;5;33mSequential\u001B[0m)        │                   │            │                   │\n",
       "├─────────────────────┼───────────────────┼────────────┼───────────────────┤\n",
       "│ skip_connection2    │ (\u001B[38;5;45mNone\u001B[0m, \u001B[38;5;34m128\u001B[0m)       │          \u001B[38;5;34m0\u001B[0m │ ffn_block1[\u001B[38;5;34m0\u001B[0m][\u001B[38;5;34m0\u001B[0m], │\n",
       "│ (\u001B[38;5;33mAdd\u001B[0m)               │                   │            │ ffn_block2[\u001B[38;5;34m0\u001B[0m][\u001B[38;5;34m0\u001B[0m]  │\n",
       "├─────────────────────┼───────────────────┼────────────┼───────────────────┤\n",
       "│ ffn_block3          │ (\u001B[38;5;45mNone\u001B[0m, \u001B[38;5;34m128\u001B[0m)       │      \u001B[38;5;34m1,945\u001B[0m │ skip_connection2… │\n",
       "│ (\u001B[38;5;33mSequential\u001B[0m)        │                   │            │                   │\n",
       "├─────────────────────┼───────────────────┼────────────┼───────────────────┤\n",
       "│ skip_connection3    │ (\u001B[38;5;45mNone\u001B[0m, \u001B[38;5;34m128\u001B[0m)       │          \u001B[38;5;34m0\u001B[0m │ skip_connection2… │\n",
       "│ (\u001B[38;5;33mAdd\u001B[0m)               │                   │            │ ffn_block3[\u001B[38;5;34m0\u001B[0m][\u001B[38;5;34m0\u001B[0m]  │\n",
       "├─────────────────────┼───────────────────┼────────────┼───────────────────┤\n",
       "│ ffn_block4          │ (\u001B[38;5;45mNone\u001B[0m, \u001B[38;5;34m128\u001B[0m)       │      \u001B[38;5;34m1,945\u001B[0m │ skip_connection3… │\n",
       "│ (\u001B[38;5;33mSequential\u001B[0m)        │                   │            │                   │\n",
       "├─────────────────────┼───────────────────┼────────────┼───────────────────┤\n",
       "│ skip_connection4    │ (\u001B[38;5;45mNone\u001B[0m, \u001B[38;5;34m128\u001B[0m)       │          \u001B[38;5;34m0\u001B[0m │ skip_connection3… │\n",
       "│ (\u001B[38;5;33mAdd\u001B[0m)               │                   │            │ ffn_block4[\u001B[38;5;34m0\u001B[0m][\u001B[38;5;34m0\u001B[0m]  │\n",
       "├─────────────────────┼───────────────────┼────────────┼───────────────────┤\n",
       "│ ffn_block5          │ (\u001B[38;5;45mNone\u001B[0m, \u001B[38;5;34m128\u001B[0m)       │      \u001B[38;5;34m1,945\u001B[0m │ skip_connection4… │\n",
       "│ (\u001B[38;5;33mSequential\u001B[0m)        │                   │            │                   │\n",
       "├─────────────────────┼───────────────────┼────────────┼───────────────────┤\n",
       "│ skip_connection5    │ (\u001B[38;5;45mNone\u001B[0m, \u001B[38;5;34m128\u001B[0m)       │          \u001B[38;5;34m0\u001B[0m │ skip_connection4… │\n",
       "│ (\u001B[38;5;33mAdd\u001B[0m)               │                   │            │ ffn_block5[\u001B[38;5;34m0\u001B[0m][\u001B[38;5;34m0\u001B[0m]  │\n",
       "├─────────────────────┼───────────────────┼────────────┼───────────────────┤\n",
       "│ logits (\u001B[38;5;33mDense\u001B[0m)      │ (\u001B[38;5;45mNone\u001B[0m, \u001B[38;5;34m10\u001B[0m)        │      \u001B[38;5;34m1,290\u001B[0m │ skip_connection5… │\n",
       "└─────────────────────┴───────────────────┴────────────┴───────────────────┘\n"
      ],
      "text/html": [
       "<pre style=\"white-space:pre;overflow-x:auto;line-height:normal;font-family:Menlo,'DejaVu Sans Mono',consolas,'Courier New',monospace\">┏━━━━━━━━━━━━━━━━━━━━━┳━━━━━━━━━━━━━━━━━━━┳━━━━━━━━━━━━┳━━━━━━━━━━━━━━━━━━━┓\n",
       "┃<span style=\"font-weight: bold\"> Layer (type)        </span>┃<span style=\"font-weight: bold\"> Output Shape      </span>┃<span style=\"font-weight: bold\">    Param # </span>┃<span style=\"font-weight: bold\"> Connected to      </span>┃\n",
       "┡━━━━━━━━━━━━━━━━━━━━━╇━━━━━━━━━━━━━━━━━━━╇━━━━━━━━━━━━╇━━━━━━━━━━━━━━━━━━━┩\n",
       "│ input_features      │ (<span style=\"color: #00d7ff; text-decoration-color: #00d7ff\">None</span>, <span style=\"color: #00af00; text-decoration-color: #00af00\">5</span>)         │          <span style=\"color: #00af00; text-decoration-color: #00af00\">0</span> │ -                 │\n",
       "│ (<span style=\"color: #0087ff; text-decoration-color: #0087ff\">InputLayer</span>)        │                   │            │                   │\n",
       "├─────────────────────┼───────────────────┼────────────┼───────────────────┤\n",
       "│ ffn_block1          │ (<span style=\"color: #00d7ff; text-decoration-color: #00d7ff\">None</span>, <span style=\"color: #00af00; text-decoration-color: #00af00\">128</span>)       │        <span style=\"color: #00af00; text-decoration-color: #00af00\">838</span> │ input_features[<span style=\"color: #00af00; text-decoration-color: #00af00\">0</span>… │\n",
       "│ (<span style=\"color: #0087ff; text-decoration-color: #0087ff\">Sequential</span>)        │                   │            │                   │\n",
       "├─────────────────────┼───────────────────┼────────────┼───────────────────┤\n",
       "│ ffn_block2          │ (<span style=\"color: #00d7ff; text-decoration-color: #00d7ff\">None</span>, <span style=\"color: #00af00; text-decoration-color: #00af00\">128</span>)       │      <span style=\"color: #00af00; text-decoration-color: #00af00\">1,945</span> │ ffn_block1[<span style=\"color: #00af00; text-decoration-color: #00af00\">0</span>][<span style=\"color: #00af00; text-decoration-color: #00af00\">0</span>]  │\n",
       "│ (<span style=\"color: #0087ff; text-decoration-color: #0087ff\">Sequential</span>)        │                   │            │                   │\n",
       "├─────────────────────┼───────────────────┼────────────┼───────────────────┤\n",
       "│ skip_connection2    │ (<span style=\"color: #00d7ff; text-decoration-color: #00d7ff\">None</span>, <span style=\"color: #00af00; text-decoration-color: #00af00\">128</span>)       │          <span style=\"color: #00af00; text-decoration-color: #00af00\">0</span> │ ffn_block1[<span style=\"color: #00af00; text-decoration-color: #00af00\">0</span>][<span style=\"color: #00af00; text-decoration-color: #00af00\">0</span>], │\n",
       "│ (<span style=\"color: #0087ff; text-decoration-color: #0087ff\">Add</span>)               │                   │            │ ffn_block2[<span style=\"color: #00af00; text-decoration-color: #00af00\">0</span>][<span style=\"color: #00af00; text-decoration-color: #00af00\">0</span>]  │\n",
       "├─────────────────────┼───────────────────┼────────────┼───────────────────┤\n",
       "│ ffn_block3          │ (<span style=\"color: #00d7ff; text-decoration-color: #00d7ff\">None</span>, <span style=\"color: #00af00; text-decoration-color: #00af00\">128</span>)       │      <span style=\"color: #00af00; text-decoration-color: #00af00\">1,945</span> │ skip_connection2… │\n",
       "│ (<span style=\"color: #0087ff; text-decoration-color: #0087ff\">Sequential</span>)        │                   │            │                   │\n",
       "├─────────────────────┼───────────────────┼────────────┼───────────────────┤\n",
       "│ skip_connection3    │ (<span style=\"color: #00d7ff; text-decoration-color: #00d7ff\">None</span>, <span style=\"color: #00af00; text-decoration-color: #00af00\">128</span>)       │          <span style=\"color: #00af00; text-decoration-color: #00af00\">0</span> │ skip_connection2… │\n",
       "│ (<span style=\"color: #0087ff; text-decoration-color: #0087ff\">Add</span>)               │                   │            │ ffn_block3[<span style=\"color: #00af00; text-decoration-color: #00af00\">0</span>][<span style=\"color: #00af00; text-decoration-color: #00af00\">0</span>]  │\n",
       "├─────────────────────┼───────────────────┼────────────┼───────────────────┤\n",
       "│ ffn_block4          │ (<span style=\"color: #00d7ff; text-decoration-color: #00d7ff\">None</span>, <span style=\"color: #00af00; text-decoration-color: #00af00\">128</span>)       │      <span style=\"color: #00af00; text-decoration-color: #00af00\">1,945</span> │ skip_connection3… │\n",
       "│ (<span style=\"color: #0087ff; text-decoration-color: #0087ff\">Sequential</span>)        │                   │            │                   │\n",
       "├─────────────────────┼───────────────────┼────────────┼───────────────────┤\n",
       "│ skip_connection4    │ (<span style=\"color: #00d7ff; text-decoration-color: #00d7ff\">None</span>, <span style=\"color: #00af00; text-decoration-color: #00af00\">128</span>)       │          <span style=\"color: #00af00; text-decoration-color: #00af00\">0</span> │ skip_connection3… │\n",
       "│ (<span style=\"color: #0087ff; text-decoration-color: #0087ff\">Add</span>)               │                   │            │ ffn_block4[<span style=\"color: #00af00; text-decoration-color: #00af00\">0</span>][<span style=\"color: #00af00; text-decoration-color: #00af00\">0</span>]  │\n",
       "├─────────────────────┼───────────────────┼────────────┼───────────────────┤\n",
       "│ ffn_block5          │ (<span style=\"color: #00d7ff; text-decoration-color: #00d7ff\">None</span>, <span style=\"color: #00af00; text-decoration-color: #00af00\">128</span>)       │      <span style=\"color: #00af00; text-decoration-color: #00af00\">1,945</span> │ skip_connection4… │\n",
       "│ (<span style=\"color: #0087ff; text-decoration-color: #0087ff\">Sequential</span>)        │                   │            │                   │\n",
       "├─────────────────────┼───────────────────┼────────────┼───────────────────┤\n",
       "│ skip_connection5    │ (<span style=\"color: #00d7ff; text-decoration-color: #00d7ff\">None</span>, <span style=\"color: #00af00; text-decoration-color: #00af00\">128</span>)       │          <span style=\"color: #00af00; text-decoration-color: #00af00\">0</span> │ skip_connection4… │\n",
       "│ (<span style=\"color: #0087ff; text-decoration-color: #0087ff\">Add</span>)               │                   │            │ ffn_block5[<span style=\"color: #00af00; text-decoration-color: #00af00\">0</span>][<span style=\"color: #00af00; text-decoration-color: #00af00\">0</span>]  │\n",
       "├─────────────────────┼───────────────────┼────────────┼───────────────────┤\n",
       "│ logits (<span style=\"color: #0087ff; text-decoration-color: #0087ff\">Dense</span>)      │ (<span style=\"color: #00d7ff; text-decoration-color: #00d7ff\">None</span>, <span style=\"color: #00af00; text-decoration-color: #00af00\">10</span>)        │      <span style=\"color: #00af00; text-decoration-color: #00af00\">1,290</span> │ skip_connection5… │\n",
       "└─────────────────────┴───────────────────┴────────────┴───────────────────┘\n",
       "</pre>\n"
      ]
     },
     "metadata": {},
     "output_type": "display_data"
    },
    {
     "data": {
      "text/plain": [
       "\u001B[1m Total params: \u001B[0m\u001B[38;5;34m9,908\u001B[0m (38.70 KB)\n"
      ],
      "text/html": [
       "<pre style=\"white-space:pre;overflow-x:auto;line-height:normal;font-family:Menlo,'DejaVu Sans Mono',consolas,'Courier New',monospace\"><span style=\"font-weight: bold\"> Total params: </span><span style=\"color: #00af00; text-decoration-color: #00af00\">9,908</span> (38.70 KB)\n",
       "</pre>\n"
      ]
     },
     "metadata": {},
     "output_type": "display_data"
    },
    {
     "data": {
      "text/plain": [
       "\u001B[1m Trainable params: \u001B[0m\u001B[38;5;34m8,824\u001B[0m (34.47 KB)\n"
      ],
      "text/html": [
       "<pre style=\"white-space:pre;overflow-x:auto;line-height:normal;font-family:Menlo,'DejaVu Sans Mono',consolas,'Courier New',monospace\"><span style=\"font-weight: bold\"> Trainable params: </span><span style=\"color: #00af00; text-decoration-color: #00af00\">8,824</span> (34.47 KB)\n",
       "</pre>\n"
      ]
     },
     "metadata": {},
     "output_type": "display_data"
    },
    {
     "data": {
      "text/plain": [
       "\u001B[1m Non-trainable params: \u001B[0m\u001B[38;5;34m1,084\u001B[0m (4.23 KB)\n"
      ],
      "text/html": [
       "<pre style=\"white-space:pre;overflow-x:auto;line-height:normal;font-family:Menlo,'DejaVu Sans Mono',consolas,'Courier New',monospace\"><span style=\"font-weight: bold\"> Non-trainable params: </span><span style=\"color: #00af00; text-decoration-color: #00af00\">1,084</span> (4.23 KB)\n",
       "</pre>\n"
      ]
     },
     "metadata": {},
     "output_type": "display_data"
    }
   ],
   "execution_count": 58
  },
  {
   "metadata": {
    "ExecuteTime": {
     "end_time": "2025-05-15T15:33:03.794934Z",
     "start_time": "2025-05-15T15:33:03.771873Z"
    }
   },
   "cell_type": "code",
   "source": [
    "hidden_units = [5, 128]\n",
    "learning_rate = 0.001\n",
    "dropout_rate = 0.5\n",
    "num_epochs = 300\n",
    "batch_size = 256\n",
    "def run_model(model, x_train, y_train):\n",
    "    model.compile(\n",
    "        optimizer=keras.optimizers.Adam(learning_rate=0.001),\n",
    "        loss=keras.losses.SparseCategoricalCrossentropy(from_logits=True),\n",
    "        metrics=['accuracy'],\n",
    "    )\n",
    "\n",
    "    early_stopping = keras.callbacks.EarlyStopping(\n",
    "        monitor='val_accuracy', patience=50, restore_best_weights=True\n",
    "    )\n",
    "\n",
    "    history = model.fit(\n",
    "        x=x_train,\n",
    "        y=y_train,\n",
    "        epochs=num_epochs,\n",
    "        batch_size=batch_size,\n",
    "        validation_split=0.15,\n",
    "        callbacks=[early_stopping]\n",
    "    )\n",
    "    return history"
   ],
   "id": "688ee362d5a63c1b",
   "outputs": [],
   "execution_count": 67
  },
  {
   "metadata": {
    "ExecuteTime": {
     "end_time": "2025-05-15T15:23:01.571451Z",
     "start_time": "2025-05-15T15:23:01.549414Z"
    }
   },
   "cell_type": "code",
   "source": "knns.shape",
   "id": "f9adefc00cc03ae6",
   "outputs": [
    {
     "data": {
      "text/plain": [
       "(59904, 5)"
      ]
     },
     "execution_count": 46,
     "metadata": {},
     "output_type": "execute_result"
    }
   ],
   "execution_count": 46
  },
  {
   "metadata": {
    "ExecuteTime": {
     "end_time": "2025-05-15T15:16:47.664382Z",
     "start_time": "2025-05-15T15:16:47.642271Z"
    }
   },
   "cell_type": "code",
   "source": "projection.shape",
   "id": "3b4f30ed935c7cff",
   "outputs": [
    {
     "data": {
      "text/plain": [
       "(120000, 128)"
      ]
     },
     "execution_count": 37,
     "metadata": {},
     "output_type": "execute_result"
    }
   ],
   "execution_count": 37
  },
  {
   "metadata": {
    "SqlCellData": {
     "variableName$1": "df_sql"
    }
   },
   "cell_type": "code",
   "outputs": [],
   "execution_count": null,
   "source": "%%sql\n",
   "id": "283671838633e41d"
  },
  {
   "metadata": {
    "ExecuteTime": {
     "end_time": "2025-05-15T15:33:12.933940Z",
     "start_time": "2025-05-15T15:33:12.913100Z"
    }
   },
   "cell_type": "code",
   "source": "knns = knns.astype('float32') / 255.",
   "id": "1866c45009e89f90",
   "outputs": [],
   "execution_count": 70
  },
  {
   "metadata": {
    "ExecuteTime": {
     "end_time": "2025-05-15T15:33:12.109728Z",
     "start_time": "2025-05-15T15:33:12.087485Z"
    }
   },
   "cell_type": "code",
   "source": "knns.shape",
   "id": "bcf0b1b5498cec49",
   "outputs": [
    {
     "data": {
      "text/plain": [
       "(59904, 5)"
      ]
     },
     "execution_count": 69,
     "metadata": {},
     "output_type": "execute_result"
    }
   ],
   "execution_count": 69
  },
  {
   "metadata": {
    "ExecuteTime": {
     "end_time": "2025-05-15T15:42:28.799703Z",
     "start_time": "2025-05-15T15:42:28.751324Z"
    }
   },
   "cell_type": "code",
   "source": [
    "num_features = 512\n",
    "\n",
    "history = run_model(baseline_model, projection, knns)"
   ],
   "id": "2693b715c86adcb0",
   "outputs": [
    {
     "ename": "ValueError",
     "evalue": "Data cardinality is ambiguous. Make sure all arrays contain the same number of samples.'x' sizes: 102000\n'y' sizes: 59904\n",
     "output_type": "error",
     "traceback": [
      "\u001B[0;31m---------------------------------------------------------------------------\u001B[0m",
      "\u001B[0;31mValueError\u001B[0m                                Traceback (most recent call last)",
      "Cell \u001B[0;32mIn[77], line 3\u001B[0m\n\u001B[1;32m      1\u001B[0m num_features \u001B[38;5;241m=\u001B[39m \u001B[38;5;241m512\u001B[39m\n\u001B[0;32m----> 3\u001B[0m history \u001B[38;5;241m=\u001B[39m \u001B[43mrun_model\u001B[49m\u001B[43m(\u001B[49m\u001B[43mbaseline_model\u001B[49m\u001B[43m,\u001B[49m\u001B[43m \u001B[49m\u001B[43mprojection\u001B[49m\u001B[43m,\u001B[49m\u001B[43m \u001B[49m\u001B[43mknns\u001B[49m\u001B[43m)\u001B[49m\n",
      "Cell \u001B[0;32mIn[67], line 17\u001B[0m, in \u001B[0;36mrun_model\u001B[0;34m(model, x_train, y_train)\u001B[0m\n\u001B[1;32m      7\u001B[0m model\u001B[38;5;241m.\u001B[39mcompile(\n\u001B[1;32m      8\u001B[0m     optimizer\u001B[38;5;241m=\u001B[39mkeras\u001B[38;5;241m.\u001B[39moptimizers\u001B[38;5;241m.\u001B[39mAdam(learning_rate\u001B[38;5;241m=\u001B[39m\u001B[38;5;241m0.001\u001B[39m),\n\u001B[1;32m      9\u001B[0m     loss\u001B[38;5;241m=\u001B[39mkeras\u001B[38;5;241m.\u001B[39mlosses\u001B[38;5;241m.\u001B[39mSparseCategoricalCrossentropy(from_logits\u001B[38;5;241m=\u001B[39m\u001B[38;5;28;01mTrue\u001B[39;00m),\n\u001B[1;32m     10\u001B[0m     metrics\u001B[38;5;241m=\u001B[39m[\u001B[38;5;124m'\u001B[39m\u001B[38;5;124maccuracy\u001B[39m\u001B[38;5;124m'\u001B[39m],\n\u001B[1;32m     11\u001B[0m )\n\u001B[1;32m     13\u001B[0m early_stopping \u001B[38;5;241m=\u001B[39m keras\u001B[38;5;241m.\u001B[39mcallbacks\u001B[38;5;241m.\u001B[39mEarlyStopping(\n\u001B[1;32m     14\u001B[0m     monitor\u001B[38;5;241m=\u001B[39m\u001B[38;5;124m'\u001B[39m\u001B[38;5;124mval_accuracy\u001B[39m\u001B[38;5;124m'\u001B[39m, patience\u001B[38;5;241m=\u001B[39m\u001B[38;5;241m50\u001B[39m, restore_best_weights\u001B[38;5;241m=\u001B[39m\u001B[38;5;28;01mTrue\u001B[39;00m\n\u001B[1;32m     15\u001B[0m )\n\u001B[0;32m---> 17\u001B[0m history \u001B[38;5;241m=\u001B[39m \u001B[43mmodel\u001B[49m\u001B[38;5;241;43m.\u001B[39;49m\u001B[43mfit\u001B[49m\u001B[43m(\u001B[49m\n\u001B[1;32m     18\u001B[0m \u001B[43m    \u001B[49m\u001B[43mx\u001B[49m\u001B[38;5;241;43m=\u001B[39;49m\u001B[43mx_train\u001B[49m\u001B[43m,\u001B[49m\n\u001B[1;32m     19\u001B[0m \u001B[43m    \u001B[49m\u001B[43my\u001B[49m\u001B[38;5;241;43m=\u001B[39;49m\u001B[43my_train\u001B[49m\u001B[43m,\u001B[49m\n\u001B[1;32m     20\u001B[0m \u001B[43m    \u001B[49m\u001B[43mepochs\u001B[49m\u001B[38;5;241;43m=\u001B[39;49m\u001B[43mnum_epochs\u001B[49m\u001B[43m,\u001B[49m\n\u001B[1;32m     21\u001B[0m \u001B[43m    \u001B[49m\u001B[43mbatch_size\u001B[49m\u001B[38;5;241;43m=\u001B[39;49m\u001B[43mbatch_size\u001B[49m\u001B[43m,\u001B[49m\n\u001B[1;32m     22\u001B[0m \u001B[43m    \u001B[49m\u001B[43mvalidation_split\u001B[49m\u001B[38;5;241;43m=\u001B[39;49m\u001B[38;5;241;43m0.15\u001B[39;49m\u001B[43m,\u001B[49m\n\u001B[1;32m     23\u001B[0m \u001B[43m    \u001B[49m\u001B[43mcallbacks\u001B[49m\u001B[38;5;241;43m=\u001B[39;49m\u001B[43m[\u001B[49m\u001B[43mearly_stopping\u001B[49m\u001B[43m]\u001B[49m\n\u001B[1;32m     24\u001B[0m \u001B[43m\u001B[49m\u001B[43m)\u001B[49m\n\u001B[1;32m     25\u001B[0m \u001B[38;5;28;01mreturn\u001B[39;00m history\n",
      "File \u001B[0;32m~/.virtualenvs/machine_learning/lib/python3.10/site-packages/keras/src/utils/traceback_utils.py:122\u001B[0m, in \u001B[0;36mfilter_traceback.<locals>.error_handler\u001B[0;34m(*args, **kwargs)\u001B[0m\n\u001B[1;32m    119\u001B[0m     filtered_tb \u001B[38;5;241m=\u001B[39m _process_traceback_frames(e\u001B[38;5;241m.\u001B[39m__traceback__)\n\u001B[1;32m    120\u001B[0m     \u001B[38;5;66;03m# To get the full stack trace, call:\u001B[39;00m\n\u001B[1;32m    121\u001B[0m     \u001B[38;5;66;03m# `keras.config.disable_traceback_filtering()`\u001B[39;00m\n\u001B[0;32m--> 122\u001B[0m     \u001B[38;5;28;01mraise\u001B[39;00m e\u001B[38;5;241m.\u001B[39mwith_traceback(filtered_tb) \u001B[38;5;28;01mfrom\u001B[39;00m\u001B[38;5;250m \u001B[39m\u001B[38;5;28;01mNone\u001B[39;00m\n\u001B[1;32m    123\u001B[0m \u001B[38;5;28;01mfinally\u001B[39;00m:\n\u001B[1;32m    124\u001B[0m     \u001B[38;5;28;01mdel\u001B[39;00m filtered_tb\n",
      "File \u001B[0;32m~/.virtualenvs/machine_learning/lib/python3.10/site-packages/keras/src/trainers/data_adapters/data_adapter_utils.py:115\u001B[0m, in \u001B[0;36mcheck_data_cardinality\u001B[0;34m(data)\u001B[0m\n\u001B[1;32m    111\u001B[0m     sizes \u001B[38;5;241m=\u001B[39m \u001B[38;5;124m\"\u001B[39m\u001B[38;5;124m, \u001B[39m\u001B[38;5;124m\"\u001B[39m\u001B[38;5;241m.\u001B[39mjoin(\n\u001B[1;32m    112\u001B[0m         \u001B[38;5;28mstr\u001B[39m(i\u001B[38;5;241m.\u001B[39mshape[\u001B[38;5;241m0\u001B[39m]) \u001B[38;5;28;01mfor\u001B[39;00m i \u001B[38;5;129;01min\u001B[39;00m tree\u001B[38;5;241m.\u001B[39mflatten(single_data)\n\u001B[1;32m    113\u001B[0m     )\n\u001B[1;32m    114\u001B[0m     msg \u001B[38;5;241m+\u001B[39m\u001B[38;5;241m=\u001B[39m \u001B[38;5;124mf\u001B[39m\u001B[38;5;124m\"\u001B[39m\u001B[38;5;124m'\u001B[39m\u001B[38;5;132;01m{\u001B[39;00mlabel\u001B[38;5;132;01m}\u001B[39;00m\u001B[38;5;124m'\u001B[39m\u001B[38;5;124m sizes: \u001B[39m\u001B[38;5;132;01m{\u001B[39;00msizes\u001B[38;5;132;01m}\u001B[39;00m\u001B[38;5;130;01m\\n\u001B[39;00m\u001B[38;5;124m\"\u001B[39m\n\u001B[0;32m--> 115\u001B[0m \u001B[38;5;28;01mraise\u001B[39;00m \u001B[38;5;167;01mValueError\u001B[39;00m(msg)\n",
      "\u001B[0;31mValueError\u001B[0m: Data cardinality is ambiguous. Make sure all arrays contain the same number of samples.'x' sizes: 102000\n'y' sizes: 59904\n"
     ]
    }
   ],
   "execution_count": 77
  },
  {
   "metadata": {
    "ExecuteTime": {
     "end_time": "2025-05-15T15:41:44.097161Z",
     "start_time": "2025-05-15T15:41:43.989086Z"
    }
   },
   "cell_type": "code",
   "source": "display_learning_curves(history)",
   "id": "c247562016042ac2",
   "outputs": [
    {
     "data": {
      "text/plain": [
       "<Figure size 1500x500 with 2 Axes>"
      ],
      "image/png": "[encoded data removed]"
     },
     "metadata": {},
     "output_type": "display_data"
    }
   ],
   "execution_count": 76
  }
 ],
 "metadata": {
  "kernelspec": {
   "display_name": "Python 3",
   "language": "python",
   "name": "python3"
  },
  "language_info": {
   "codemirror_mode": {
    "name": "ipython",
    "version": 2
   },
   "file_extension": ".py",
   "mimetype": "text/x-python",
   "name": "python",
   "nbconvert_exporter": "python",
   "pygments_lexer": "ipython2",
   "version": "2.7.6"
  }
 },
 "nbformat": 4,
 "nbformat_minor": 5
}
